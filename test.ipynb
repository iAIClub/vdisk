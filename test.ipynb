{
 "cells": [
  {
   "cell_type": "code",
   "execution_count": 15,
   "metadata": {
    "collapsed": true
   },
   "outputs": [],
   "source": [
    "import urllib.error\n",
    "\n",
    "\n",
    "import urllib.request\n",
    "import re\n",
    "import rsa\n",
    "import http.cookiejar  #从前的cookielib\n",
    "import base64\n",
    "import json\n",
    "import urllib\n",
    "import urllib.parse\n",
    "import binascii\n",
    "\n",
    "# 用于模拟登陆新浪微博\n",
    "\n",
    "class launcher():\n",
    "\n",
    "    def __init__(self,username, password):\n",
    "        self.password = password\n",
    "        self.username = username\n",
    "\n",
    "    def get_prelogin_args(self):\n",
    "\n",
    "\n",
    "        '''\n",
    "        该函数用于模拟预登录过程,并获取服务器返回的 nonce , servertime , pub_key 等信息\n",
    "        '''\n",
    "        json_pattern = re.compile('\\((.*)\\)')\n",
    "        url = 'http://login.sina.com.cn/sso/prelogin.php?entry=weibo&callback=sinaSSOController.preloginCallBack&su=&' + self.get_encrypted_name() + '&rsakt=mod&checkpin=1&client=ssologin.js(v1.4.18)'\n",
    "        try:\n",
    "            request = urllib.request.Request(url)\n",
    "            response = urllib.request.urlopen(request)\n",
    "            raw_data = response.read().decode('utf-8')\n",
    "            json_data = json_pattern.search(raw_data).group(1)\n",
    "            data = json.loads(json_data)\n",
    "            return data\n",
    "        except urllib.error as e:\n",
    "            print(\"%d\"%e.code)\n",
    "            return None\n",
    "\n",
    "    def get_encrypted_pw(self,data):\n",
    "        rsa_e = 65537 #0x10001\n",
    "        pw_string = str(data['servertime']) + '\\t' + str(data['nonce']) + '\\n' + str(self.password)\n",
    "        key = rsa.PublicKey(int(data['pubkey'],16),rsa_e)\n",
    "        pw_encypted = rsa.encrypt(pw_string.encode('utf-8'), key)\n",
    "        self.password = ''   #清空password\n",
    "        passwd = binascii.b2a_hex(pw_encypted)\n",
    "        #print(passwd)\n",
    "        return passwd\n",
    "\n",
    "    def get_encrypted_name(self):\n",
    "        username_urllike   = urllib.request.quote(self.username)\n",
    "        username_encrypted = base64.b64encode(bytes(username_urllike,encoding='utf-8'))\n",
    "        return username_encrypted.decode('utf-8')\n",
    "\n",
    "    def enableCookies(self):\n",
    "            #建立一个cookies 容器\n",
    "            cookie_container = http.cookiejar.CookieJar()\n",
    "            #将一个cookies容器和一个HTTP的cookie的处理器绑定\n",
    "            cookie_support = urllib.request.HTTPCookieProcessor(cookie_container)\n",
    "            #创建一个opener,设置一个handler用于处理http的url打开\n",
    "            opener = urllib.request.build_opener(cookie_support, urllib.request.HTTPHandler)\n",
    "            #安装opener，此后调用urlopen()时会使用安装过的opener对象\n",
    "            urllib.request.install_opener(opener)\n",
    "\n",
    "\n",
    "    def build_post_data(self,raw):\n",
    "        post_data = {\n",
    "            \"entry\":\"weibo\",\n",
    "            \"gateway\":\"1\",\n",
    "            \"from\":\"\",\n",
    "            \"savestate\":\"7\",\n",
    "            \"useticket\":\"1\",\n",
    "            \"pagerefer\":\"http://passport.weibo.com/visitor/visitor?entry=miniblog&a=enter&url=http%3A%2F%2Fweibo.com%2F&domain=.weibo.com&ua=php-sso_sdk_client-0.6.14\",\n",
    "            \"vsnf\":\"1\",\n",
    "            \"su\":self.get_encrypted_name(),\n",
    "            \"service\":\"miniblog\",\n",
    "            \"servertime\":raw['servertime'],\n",
    "            \"nonce\":raw['nonce'],\n",
    "            \"pwencode\":\"rsa2\",\n",
    "            \"rsakv\":raw['rsakv'],\n",
    "            \"sp\":self.get_encrypted_pw(raw),\n",
    "            \"sr\":\"1280*800\",\n",
    "            \"encoding\":\"UTF-8\",\n",
    "            \"prelt\":\"77\",\n",
    "            \"url\":\"http://weibo.com/ajaxlogin.php?framelogin=1&callback=parent.sinaSSOController.feedBackUrlCallBack\",\n",
    "            \"returntype\":\"META\"\n",
    "        }\n",
    "        data = urllib.parse.urlencode(post_data).encode('utf-8')\n",
    "        return data\n",
    "\n",
    "\n",
    "    def login(self):\n",
    "        url = 'http://login.sina.com.cn/sso/login.php?client=ssologin.js(v1.4.18)'\n",
    "        self.enableCookies()\n",
    "        data = self.get_prelogin_args()\n",
    "        post_data = self.build_post_data(data)\n",
    "        headers = {\n",
    "            \"User-Agent\":\"Mozilla/5.0 (Macintosh; Intel Mac OS X 10_10_5) AppleWebKit/537.36 (KHTML, like Gecko) Chrome/49.0.2623.87 Safari/537.36\"\n",
    "        }\n",
    "        try:\n",
    "            request = urllib.request.Request(url=url,data=post_data,headers=headers)\n",
    "            response = urllib.request.urlopen(request)\n",
    "            html = response.read().decode('GBK')\n",
    "            #print(html)\n",
    "        except urllib.error as e:\n",
    "            print(e.code)\n",
    "\n",
    "        p = re.compile('location\\.replace\\(\\'(.*?)\\'\\)')\n",
    "        p2 = re.compile(r'\"userdomain\":\"(.*?)\"')\n",
    "\n",
    "        try:\n",
    "            login_url = p.search(html).group(1)\n",
    "            #print(login_url)\n",
    "            request = urllib.request.Request(login_url)\n",
    "            response = urllib.request.urlopen(request)\n",
    "            page = response.read().decode('utf-8')\n",
    "            #print(page)\n",
    "            login_url = 'http://weibo.com/' + p2.search(page).group(1)\n",
    "            request = urllib.request.Request(login_url)\n",
    "            response = urllib.request.urlopen(request)\n",
    "            final = response.read().decode('utf-8')\n",
    "            #print(final)\n",
    "\n",
    "            print(\"Login success!\")\n",
    "        except:\n",
    "            print('Login error!')\n",
    "            return 0"
   ]
  },
  {
   "cell_type": "code",
   "execution_count": 16,
   "metadata": {},
   "outputs": [],
   "source": [
    "a=launcher('elivthrar@gmail.com','j31415926')"
   ]
  },
  {
   "cell_type": "code",
   "execution_count": 17,
   "metadata": {},
   "outputs": [
    {
     "name": "stdout",
     "output_type": "stream",
     "text": [
      "Login success!\n"
     ]
    }
   ],
   "source": [
    "a.login()"
   ]
  },
  {
   "cell_type": "code",
   "execution_count": 18,
   "metadata": {},
   "outputs": [],
   "source": [
    "page=urllib.request.urlopen('http://vdisk.weibo.com/')"
   ]
  },
  {
   "cell_type": "code",
   "execution_count": 19,
   "metadata": {},
   "outputs": [],
   "source": [
    "page.read().decode('utf-8')"
   ]
  },
  {
   "cell_type": "code",
   "execution_count": 30,
   "metadata": {},
   "outputs": [],
   "source": [
    "url='http://vdisk.weibo.com/share/linkfolderSave'\n",
    "headers = {\n",
    "    'Host':' vdisk.weibo.com',\n",
    "'Connection':' keep-alive',\n",
    "'Content-Length':' 153',\n",
    "'Origin':' http://vdisk.weibo.com',\n",
    "'User-Agent':' Mozilla/5.0 (Windows NT 10.0; WOW64) AppleWebKit/537.36 (KHTML, like Gecko) Chrome/50.0.2661.87 Safari/537.36',\n",
    "'Content-Type':' application/x-www-form-urlencoded; charset=UTF-8',\n",
    "'Accept':' application/json, text/javascript, */*; q=0.01',\n",
    "'x-response-version':' 2',\n",
    "'X-Requested-With':' XMLHttpRequest',\n",
    "'Referer':' http://vdisk.weibo.com/lc/f7C4p3rotMNLayOvY',\n",
    "        }\n",
    "post_data={\n",
    "    'root':'basic',\n",
    "    'to_path': '/backup/妖魔鬼怪 神话传说',\n",
    "    'access_code':'I651',\n",
    "    'from_copy_ref':'f7C4p3rotMNLayOvY',\n",
    "}\n",
    "data = urllib.parse.urlencode(post_data).encode('utf-8')\n",
    "print(data)\n",
    "request = urllib.request.Request(url=url,data=data,headers=headers)\n",
    "response = urllib.request.urlopen(request)\n",
    "html = response.read().decode('GBK')\n",
    "print(html)"
   ]
  },
  {
   "cell_type": "code",
   "execution_count": 40,
   "metadata": {},
   "outputs": [],
   "source": [
    "re.findall('modified',html)"
   ]
  },
  {
   "cell_type": "code",
   "execution_count": 61,
   "metadata": {},
   "outputs": [
    {
     "name": "stdout",
     "output_type": "stream",
     "text": [
      "Y027\nNMU4\nX3SP\nWJK8\nMQ59\nTT32\nGFRH\nHN5D\nHOGA\nWK48\nY30C\nXP3Z\nYQEN\nT3I6\nK25L\nJY2N\nGZB8\nF485\nW0H1\nTAL5\nA63R\nX4SQ\nD3V8\nKFVU\nU5UF\nX1EW\nG1WH\nJ4QW\nT609\nX9D1\nEB39\nT22J\nIPV6\nDU9C\nF41U\nN866\nZOPH\nP356\nQ1S8\nFDSA\nYRJO\nV43K\nYRJO\nX1K0\nP23S\nCZR0\nP71M\nJ2G5\nEDMP\nEN39\nLVK9\nGRPO\nKA8T\nG262\nJ599\nQ074\nG78Z\nUOK3\nZX42\nD7Y1\nK6FB\nQL51\nGL4O\nXPR1\nG921\nAZU4\nZVP5\nMQ17\nB926\nK6JF\nQ3J4\nOHDU\nP5H6\nIFBI\nK14K\nU73Q\nX5U8\nEXT6\nLO4H\nX0I1\nA81Z\nFRWR\nGFA4\nAL01\nKPGL\nU1C6\nK53H\nS3Y8\nF754\nNKK4\nZ8U3\nZD80\nI763\nBG97\nZDY1\nX72X\nG163\nYF68\nP153\nMQ2R\nY579\nUP6K\nI460\nJON4\nA97M\nH7X8\nYZXZ\nED5F\nD3Y9\nPVWR\nJ853\nB96D\nB011\nNH21\nA794\nMGQ7\nZEB8\nOYV0\nZHK8\nA255\nH49A\nTBIM\nX2SJ\nBF6B\nQKC4\nS034\nRWYN\nW3N5\nYM3A\nX0AH\nA6U9\nI651\nOY54\nZ5NI\nP837\nQ116\nXA9N\nSC5Q\nES1N\nH7T9\nL24G\nW1F5\nY3Y6\nS86S\nND8R\nO3H7\nNSYQ\nZLIC\nJ345\nNYY8\nP0VX\nS750\nB6OL\nUPW1\nWW3S\nNDG0\nOEAF\nD27D\nXWCI\nXWCI\nTAVF\nAR4D\nDQOW\nYCB8\nTY27\nV8I9\nZ336\nDZ61\nVN8Q\nTG70\nZOGK\nDAP3\nN3N6\nQVM9\nXX2M\nRW3F\nP26M\nI4U6\nK999\nYQFD\nCX68\nF837\nR95B\nQDEE\nW116\nPWQQ\nBEU9\nDRG9\nLLJR\nGI8V\nB957\nWH0B\nG95T\nRH7J\nB7UZ\nS7O5\nHBVP\nC14U\nGGKQ\nF181\nUQL5\nT335\nLAKP\nA66G\nZFN8\nD5L5\nF9TO\nK070\nZ4MU\nE4II\nN62R\nINVS\nZT4B\nGSY0\nSJ9L\nSL44\nHVA0\nSSG8\nKMV2\nDEK4\nQ64J\nW390\nXQSK\nG4FK\nWC7Q\nUECO\nBN7K\nZ49W\nJ04S\nSI7W\nA311\nI4O1\nXMQ7\nNS97\nPA73\nHWW5\nB700\nFMNW\nAOB2\nA404\nK162\nY2O7\nCR73\nT0PU\nV113\nX6YD\nQ2G6\nY72L\nB3O0\nBWR4\nO12S\nL64X\nONN9\nINYI\nBB5S\nZ5A0\nQ3XN\nKBD4\nU244\nBFFZ\nQ097\nY1T2\nOL5Z\nB158\nZDTD\nA46Y\nDF50\nV751\nUS1K\nG44C\nOTM2\nO27T\nT706\nQ749\nAW81\nG0XP\nR9PC\nEU47\nK1GM\nW9N4\nI9WC\nA3HG\nATBL\nCG7E\nB1EV\nEE28\nR13D\nW78Q\nULLD\nK96I\nZ582\nUUGF\nYR3E\nE22A\nY8WG\nN0N4\nQN7Y\nW2FO\nD11Y\nW8K4\nZ19O\nCH35\nGBAR\nI8S2\nBI2I\nD402\nT5A7\nS6S1\nC1Z5\nH1KP\nTKHZ\nUF0A\nFW6H\nT9W8\nTZIG\nZ947\nB1J4\nHE4W\nS724\nEG90\nA2E4\nL7VZ\nI987\nV5P6\nL32F\nRM0O\nDJ9M\nAD68\nOA64\nP4KM\nX3J8\nED68\nRD15\nWEAI\nTY02\nSR40\nV179\nW26P\nPF73\nU962\nF86K\nX3BV\nI0L2\nHL34\nJL64\nN550\nWW63\nKRC4\nR4W7\nH2JD\nZH2Y\nD9KM\nA470\nY72F\nM257\nM89N\nZ4L1\nKN3D\nL18E\nVUU2\nZX2V\nBRT4\nQ076\nHB5N\nS69U\nZ5E8\nC500\nN82Q\nWJ5S\nQ9VN\nSR7Z\nQ2H0\nX9SM\nT1H2\nF7E0\nW8K4\nA113\nKU9B\nHSWP\nZQL2\nKWY2\nYT6L\nH0Y1\nPT82\nAJV6\nZU92\nO43N\nE2Q3\nZ7QF\nOX8P\nH12J\nQSS5\nF706\nG9EP\nAAPS\n"
     ]
    }
   ],
   "source": [
    "import csv\n",
    "with open('share.csv', newline='', encoding='utf-8') as csvfile:\n",
    "    spamreader = csv.reader(csvfile, delimiter='\t', quotechar='|')\n",
    "    for row in spamreader:\n",
    "        print(row[2].strip())"
   ]
  }
 ],
 "metadata": {
  "kernelspec": {
   "display_name": "Python 2",
   "language": "python",
   "name": "python2"
  },
  "language_info": {
   "codemirror_mode": {
    "name": "ipython",
    "version": 2.0
   },
   "file_extension": ".py",
   "mimetype": "text/x-python",
   "name": "python",
   "nbconvert_exporter": "python",
   "pygments_lexer": "ipython2",
   "version": "2.7.6"
  }
 },
 "nbformat": 4,
 "nbformat_minor": 0
}